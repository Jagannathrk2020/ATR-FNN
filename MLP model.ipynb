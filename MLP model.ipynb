{
 "cells": [
  {
   "cell_type": "markdown",
   "metadata": {},
   "source": [
    "# _MLP_\n",
    "## Multi Layer Perceptron Model (Feed forward Neural Networks)"
   ]
  },
  {
   "cell_type": "markdown",
   "metadata": {},
   "source": [
    "An implementation of a Neural Network used for ATR (Automatic Target Recognition)\n",
    "\n",
    "--------"
   ]
  },
  {
   "cell_type": "code",
   "execution_count": 5,
   "metadata": {
    "collapsed": true
   },
   "outputs": [],
   "source": [
    "# dependencies\n",
    "import tensorflow as tf\n",
    "import numpy as np\n",
    "import pickle"
   ]
  },
  {
   "cell_type": "code",
   "execution_count": 6,
   "metadata": {},
   "outputs": [
    {
     "name": "stdout",
     "output_type": "stream",
     "text": [
      "Training set (696, 128, 128) (696,)\n",
      "Validation set (174, 128, 128) (174,)\n",
      "Test set (408, 128, 128) (408,)\n"
     ]
    }
   ],
   "source": [
    "# load data\n",
    "pickle_file = 'final_dataset.pickle'\n",
    "with open(pickle_file, 'rb') as f:\n",
    "  save = pickle.load(f)\n",
    "  train_dataset = save['train_dataset']\n",
    "  train_labels = save['train_labels']\n",
    "  valid_dataset = save['valid_dataset']\n",
    "  valid_labels = save['valid_labels']\n",
    "  test_dataset = save['test_dataset']\n",
    "  test_labels = save['test_labels']\n",
    "  del save  # help gc free up memory\n",
    "  print('Training set', train_dataset.shape, train_labels.shape)\n",
    "  print('Validation set', valid_dataset.shape, valid_labels.shape)\n",
    "  print('Test set', test_dataset.shape, test_labels.shape)"
   ]
  },
  {
   "cell_type": "code",
   "execution_count": 7,
   "metadata": {},
   "outputs": [
    {
     "name": "stdout",
     "output_type": "stream",
     "text": [
      "2\n",
      "no problem\n",
      "done\n"
     ]
    }
   ],
   "source": [
    "# Now lets test if the file really matches or is corrupted\n",
    "# train_labels[0] => 2\n",
    "# so the first image is a BTR70 LETS test this out\n",
    "print(train_labels[0])\n",
    "with open('TRAIN_BTR70.pickle','rb') as f:\n",
    "    s = pickle.load(f)\n",
    "    btr_train = s\n",
    "    del s\n",
    "    for image in btr_train:\n",
    "        if (image - train_dataset[0]).any() == 0:\n",
    "            print('no problem')\n",
    "            break\n",
    "    print('done')"
   ]
  },
  {
   "cell_type": "markdown",
   "metadata": {},
   "source": [
    "**Reformat Data - **\n",
    "Flatten arrays and make labels 1-hot encoded arrays"
   ]
  },
  {
   "cell_type": "code",
   "execution_count": 8,
   "metadata": {},
   "outputs": [
    {
     "name": "stdout",
     "output_type": "stream",
     "text": [
      "Training set (696, 16384) (696, 3)\n",
      "Validation set (174, 16384) (174, 3)\n",
      "Test set (408, 16384) (408, 3)\n"
     ]
    }
   ],
   "source": [
    "image_size = 128\n",
    "num_labels = 3\n",
    "\n",
    "def reformat(dataset, labels):\n",
    "  dataset = dataset.reshape((-1, image_size * image_size)).astype(np.float32)\n",
    "  # Map 0 to [1.0, 0.0, 0.0 ...], 1 to [0.0, 1.0, 0.0 ...]\n",
    "  labels = (np.arange(num_labels) == labels[:,None]).astype(np.float32)\n",
    "  return dataset, labels\n",
    "train_dataset, train_labels = reformat(train_dataset, train_labels)\n",
    "valid_dataset, valid_labels = reformat(valid_dataset, valid_labels)\n",
    "test_dataset, test_labels = reformat(test_dataset, test_labels)\n",
    "print('Training set', train_dataset.shape, train_labels.shape)\n",
    "print('Validation set', valid_dataset.shape, valid_labels.shape)\n",
    "print('Test set', test_dataset.shape, test_labels.shape)"
   ]
  },
  {
   "cell_type": "code",
   "execution_count": 105,
   "metadata": {
    "collapsed": true
   },
   "outputs": [],
   "source": [
    "# hyper parameters\n",
    "num_steps = 551\n",
    "batch_size = 30\n",
    "num_labels = 3\n",
    "h_nodes = 200\n",
    "beta = 0.01    "
   ]
  },
  {
   "cell_type": "code",
   "execution_count": 10,
   "metadata": {
    "collapsed": true
   },
   "outputs": [],
   "source": [
    "def accuracy(predictions, labels):\n",
    "  return (100.0 * np.sum(np.argmax(predictions, 1) == np.argmax(labels, 1))\n",
    "          / predictions.shape[0])"
   ]
  },
  {
   "cell_type": "code",
   "execution_count": 109,
   "metadata": {},
   "outputs": [],
   "source": [
    "train_subset = 30\n",
    "graph = tf.Graph()\n",
    "with graph.as_default():\n",
    "\n",
    "  # Input data.\n",
    "  # Load the training, validation and test data into constants that are\n",
    "  # attached to the graph.\n",
    "  # in tensorflow you create a bunch of nodes or operations - some are constant (do not require tensor input)\n",
    "  # and some are not constant example matrix multilication -the end node that you want as output is supposed \n",
    "  # to be passed as a parameter to the session variable\n",
    "  #placing inside constant means that you have do not perform any computation on these tensors\n",
    "  # everything is an operation the below one produces a matrix  \n",
    "  tf_train_dataset = tf.constant(train_dataset[:train_subset, :])\n",
    "  tf_train_labels = tf.constant(train_labels[:train_subset])\n",
    "  tf_valid_dataset = tf.constant(valid_dataset)\n",
    "  tf_test_dataset = tf.constant(test_dataset)\n",
    "  \n",
    "  # Variables.\n",
    "  # These are the parameters that we are going to be training. The weight\n",
    "  # matrix will be initialized using random values following a (truncated)\n",
    "  # normal distribution. The biases get initialized to zero.\n",
    "  weights = tf.Variable(\n",
    "    tf.truncated_normal([image_size * image_size, num_labels]))\n",
    "  biases = tf.Variable(tf.zeros([num_labels]))\n",
    "  \n",
    "  # Training computation.\n",
    "  # We multiply the inputs with the weight matrix, and add biases. We compute\n",
    "  # the softmax and cross-entropy (it's one operation in TensorFlow, because\n",
    "  # it's very common, and it can be optimized). We take the average of this\n",
    "  # cross-entropy across all training examples: that's our loss.\n",
    "  # y = (W*x) + b \n",
    "  logits = tf.matmul(tf_train_dataset, weights) + biases\n",
    "  # S(y)-> will be reduced to one hot encoded values then cross entropy will be calculated\n",
    "  # the log function D(S,L) that is the loss\n",
    "  loss = tf.reduce_mean(\n",
    "    tf.nn.softmax_cross_entropy_with_logits(labels=tf_train_labels, logits=logits))\n",
    "  # lets add the l2 regularization layer\n",
    "  regularization = tf.nn.l2_loss(weights)\n",
    "  loss = tf.reduce_mean(loss + beta*regularization)  \n",
    "  \n",
    "  # Optimizer.\n",
    "  # We are going to find the minimum of this loss using gradient descent.\n",
    "  optimizer = tf.train.GradientDescentOptimizer(0.5).minimize(loss)\n",
    "  \n",
    "  # Predictions for the training, validation, and test data.\n",
    "  # These are not part of training, but merely here so that we can report\n",
    "  # accuracy figures as we train.\n",
    "  train_prediction = tf.nn.softmax(logits)\n",
    "  valid_prediction = tf.nn.softmax(\n",
    "    tf.matmul(tf_valid_dataset, weights) + biases)\n",
    "  test_prediction = tf.nn.softmax(tf.matmul(tf_test_dataset, weights) + biases)"
   ]
  },
  {
   "cell_type": "code",
   "execution_count": 110,
   "metadata": {},
   "outputs": [
    {
     "name": "stdout",
     "output_type": "stream",
     "text": [
      "Initialized\n",
      "Minibatch loss at step 0: 211.997238\n",
      "Minibatch accuracy: 40.0%\n",
      "Validation accuracy: 33.3%\n",
      "Minibatch loss at step 50: 260.245148\n",
      "Minibatch accuracy: 30.0%\n",
      "Validation accuracy: 33.3%\n",
      "Minibatch loss at step 100: 843.299500\n",
      "Minibatch accuracy: 33.3%\n",
      "Validation accuracy: 33.3%\n",
      "Minibatch loss at step 150: 599.573853\n",
      "Minibatch accuracy: 36.7%\n",
      "Validation accuracy: 33.3%\n",
      "Minibatch loss at step 200: 516.793701\n",
      "Minibatch accuracy: 20.0%\n",
      "Validation accuracy: 33.3%\n",
      "Minibatch loss at step 250: 167.713486\n",
      "Minibatch accuracy: 43.3%\n",
      "Validation accuracy: 33.3%\n",
      "Minibatch loss at step 300: 748.500793\n",
      "Minibatch accuracy: 30.0%\n",
      "Validation accuracy: 33.3%\n",
      "Minibatch loss at step 350: 191.491959\n",
      "Minibatch accuracy: 40.0%\n",
      "Validation accuracy: 33.3%\n",
      "Minibatch loss at step 400: 498.559235\n",
      "Minibatch accuracy: 30.0%\n",
      "Validation accuracy: 33.3%\n",
      "Minibatch loss at step 450: 804.456787\n",
      "Minibatch accuracy: 23.3%\n",
      "Validation accuracy: 33.3%\n",
      "Minibatch loss at step 500: 454.193298\n",
      "Minibatch accuracy: 33.3%\n",
      "Validation accuracy: 33.3%\n",
      "Minibatch loss at step 550: 631.614990\n",
      "Minibatch accuracy: 40.0%\n",
      "Validation accuracy: 33.3%\n",
      "Test accuracy: 33.3%\n"
     ]
    }
   ],
   "source": [
    "with tf.Session(graph=graph) as session:\n",
    "  tf.global_variables_initializer().run()\n",
    "  print(\"Initialized\")\n",
    "  for step in range(num_steps):\n",
    "    # Pick an offset within the training data, which has been randomized.\n",
    "    # Note: we could use better randomization across epochs.\n",
    "    offset = (step * batch_size) % (train_labels.shape[0] - batch_size)\n",
    "    # Generate a minibatch.\n",
    "    batch_data = train_dataset[offset:(offset + batch_size), :]\n",
    "    batch_labels = train_labels[offset:(offset + batch_size), :]\n",
    "    # Prepare a dictionary telling the session where to feed the minibatch.\n",
    "    # The key of the dictionary is the placeholder node of the graph to be fed,\n",
    "    # and the value is the numpy array to feed to it.\n",
    "    feed_dict = {tf_train_dataset : batch_data, tf_train_labels : batch_labels}\n",
    "    _, l, predictions = session.run(\n",
    "      [optimizer, loss, train_prediction], feed_dict=feed_dict)\n",
    "    if (step % 50 == 0):\n",
    "      print(\"Minibatch loss at step %d: %f\" % (step, l))\n",
    "      print(\"Minibatch accuracy: %.1f%%\" % accuracy(predictions, batch_labels))\n",
    "      print(\"Validation accuracy: %.1f%%\" % accuracy(\n",
    "        valid_prediction.eval(), valid_labels))\n",
    "  print(\"Test accuracy: %.1f%%\" % accuracy(test_prediction.eval(), test_labels))"
   ]
  },
  {
   "cell_type": "code",
   "execution_count": 111,
   "metadata": {
    "collapsed": true
   },
   "outputs": [],
   "source": [
    "# deeper network\n",
    "graph = tf.Graph()\n",
    "with graph.as_default():\n",
    "\n",
    "  # Input data. For the training data, we use a placeholder that will be fed\n",
    "  # at run time with a training minibatch.\n",
    "  tf_train_dataset = tf.placeholder(tf.float32,\n",
    "                                    shape=(batch_size, image_size * image_size))\n",
    "  tf_train_labels = tf.placeholder(tf.float32, shape=(batch_size, num_labels))\n",
    "  tf_valid_dataset = tf.constant(valid_dataset)\n",
    "  tf_test_dataset = tf.constant(test_dataset)\n",
    "  \n",
    "  # Why will weigth1 be of the size 784*h_nodes\n",
    "    \n",
    "  # Variables.\n",
    "  weights1 = tf.Variable(\n",
    "    tf.truncated_normal([image_size * image_size, h_nodes]))\n",
    "  biases1 = tf.Variable(tf.zeros([h_nodes]))\n",
    "  \n",
    "  weights2 = tf.Variable(\n",
    "  tf.truncated_normal([h_nodes, num_labels]))\n",
    "  biases2 = tf.Variable(tf.zeros([num_labels]))\n",
    "       \n",
    "\n",
    "  # Training computation.  \n",
    "  logits1 = tf.matmul(tf_train_dataset, weights1) + biases1\n",
    "  # now send these logits to relu\n",
    "  relu_output = tf.nn.relu(logits1)\n",
    "  # introduce dropout to outputs from the relu layer\n",
    "  keep_prob = 0.5\n",
    "  relu_output = tf.nn.dropout(relu_output,keep_prob)  \n",
    "  final_logits = tf.matmul(relu_output,weights2) + biases2\n",
    "  \n",
    "    \n",
    "  loss = tf.reduce_mean(\n",
    "    tf.nn.softmax_cross_entropy_with_logits(labels=tf_train_labels, logits=final_logits))\n",
    "  # now add regularization to it\n",
    "  regularization = tf.nn.l2_loss(weights1) + tf.nn.l2_loss(weights2)\n",
    "  loss = tf.reduce_mean(loss + beta*regularization)\n",
    "  \n",
    "  # Optimizer.\n",
    "  optimizer = tf.train.GradientDescentOptimizer(0.5).minimize(loss)\n",
    "  \n",
    "  # Predictions for the training, validation, and test data.\n",
    "  train_prediction = tf.nn.softmax(final_logits)\n",
    "  valid_prediction = tf.nn.softmax(tf.matmul(tf.nn.relu(\n",
    "    tf.matmul(tf_valid_dataset, weights1) + biases1),weights2)+biases2)\n",
    "  test_prediction = tf.nn.softmax(tf.matmul(tf.nn.relu(\n",
    "    tf.matmul(tf_test_dataset, weights1) + biases1),weights2)+biases2)"
   ]
  },
  {
   "cell_type": "code",
   "execution_count": 112,
   "metadata": {},
   "outputs": [
    {
     "name": "stdout",
     "output_type": "stream",
     "text": [
      "Initialized\n",
      "Minibatch loss at step 0: 13264.787109\n",
      "Minibatch accuracy: 16.7%\n",
      "Validation accuracy: 33.3%\n",
      "Minibatch loss at step 50: 77398.148438\n",
      "Minibatch accuracy: 36.7%\n",
      "Validation accuracy: 33.3%\n",
      "Minibatch loss at step 100: 46886.113281\n",
      "Minibatch accuracy: 26.7%\n",
      "Validation accuracy: 33.3%\n",
      "Minibatch loss at step 150: 28402.714844\n",
      "Minibatch accuracy: 13.3%\n",
      "Validation accuracy: 33.3%\n",
      "Minibatch loss at step 200: 17205.976562\n",
      "Minibatch accuracy: 20.0%\n",
      "Validation accuracy: 33.3%\n",
      "Minibatch loss at step 250: 10423.288086\n",
      "Minibatch accuracy: 23.3%\n",
      "Validation accuracy: 33.3%\n",
      "Minibatch loss at step 300: 6314.560059\n",
      "Minibatch accuracy: 30.0%\n",
      "Validation accuracy: 33.3%\n",
      "Minibatch loss at step 350: 3825.613037\n",
      "Minibatch accuracy: 40.0%\n",
      "Validation accuracy: 33.3%\n",
      "Minibatch loss at step 400: 2317.868652\n",
      "Minibatch accuracy: 23.3%\n",
      "Validation accuracy: 33.3%\n",
      "Minibatch loss at step 450: 1404.558716\n",
      "Minibatch accuracy: 23.3%\n",
      "Validation accuracy: 33.3%\n",
      "Minibatch loss at step 500: 851.276245\n",
      "Minibatch accuracy: 20.0%\n",
      "Validation accuracy: 33.3%\n",
      "Minibatch loss at step 550: 516.096619\n",
      "Minibatch accuracy: 40.0%\n",
      "Validation accuracy: 33.3%\n",
      "Test accuracy: 33.3%\n"
     ]
    }
   ],
   "source": [
    "with tf.Session(graph=graph) as session:\n",
    "  tf.global_variables_initializer().run()\n",
    "  print(\"Initialized\")\n",
    "  for step in range(num_steps):\n",
    "    # Pick an offset within the training data, which has been randomized.\n",
    "    # Note: we could use better randomization across epochs.\n",
    "    offset = (step * batch_size) % (train_labels.shape[0] - batch_size)\n",
    "    # Generate a minibatch.\n",
    "    batch_data = train_dataset[offset:(offset + batch_size), :]\n",
    "    batch_labels = train_labels[offset:(offset + batch_size), :]\n",
    "    # Prepare a dictionary telling the session where to feed the minibatch.\n",
    "    # The key of the dictionary is the placeholder node of the graph to be fed,\n",
    "    # and the value is the numpy array to feed to it.\n",
    "    feed_dict = {tf_train_dataset : batch_data, tf_train_labels : batch_labels}\n",
    "    _, l, predictions = session.run(\n",
    "      [optimizer, loss, train_prediction], feed_dict=feed_dict)\n",
    "    if (step % 50 == 0):\n",
    "      print(\"Minibatch loss at step %d: %f\" % (step, l))\n",
    "      print(\"Minibatch accuracy: %.1f%%\" % accuracy(predictions, batch_labels))\n",
    "      print(\"Validation accuracy: %.1f%%\" % accuracy(\n",
    "        valid_prediction.eval(), valid_labels))\n",
    "  print(\"Test accuracy: %.1f%%\" % accuracy(test_prediction.eval(), test_labels))"
   ]
  },
  {
   "cell_type": "markdown",
   "metadata": {},
   "source": [
    "** We conclude that an MLP is not able to perform well on this task **"
   ]
  },
  {
   "cell_type": "code",
   "execution_count": null,
   "metadata": {
    "collapsed": true
   },
   "outputs": [],
   "source": []
  }
 ],
 "metadata": {
  "kernelspec": {
   "display_name": "Python 3",
   "language": "python",
   "name": "python3"
  },
  "language_info": {
   "codemirror_mode": {
    "name": "ipython",
    "version": 3
   },
   "file_extension": ".py",
   "mimetype": "text/x-python",
   "name": "python",
   "nbconvert_exporter": "python",
   "pygments_lexer": "ipython3",
   "version": "3.5.2"
  }
 },
 "nbformat": 4,
 "nbformat_minor": 2
}
