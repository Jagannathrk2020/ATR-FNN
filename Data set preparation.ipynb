{
 "cells": [
  {
   "cell_type": "code",
   "execution_count": 4,
   "metadata": {
    "collapsed": true
   },
   "outputs": [],
   "source": [
    "# creating PIPLELINE\n",
    "# __author__ == shubham0704\n",
    "\n",
    "# dependencies\n",
    "import numpy as np\n",
    "from PIL import Image\n",
    "from scipy import ndimage"
   ]
  },
  {
   "cell_type": "markdown",
   "metadata": {},
   "source": [
    "**Load datasets**\n",
    "\n",
    "Images will be loaded into train and test data set and will be converted to gray scale"
   ]
  },
  {
   "cell_type": "code",
   "execution_count": 5,
   "metadata": {
    "collapsed": true
   },
   "outputs": [],
   "source": [
    "import glob\n",
    "import os\n",
    "\n",
    "def label_getter(file_name):\n",
    "    \n",
    "    labels = []\n",
    "    for file in os.listdir(file_name):\n",
    "        print(file_name+file)\n",
    "        inner_files_regex = file_name + file + '/*.jpeg'\n",
    "        labels.append(glob.glob(inner_files_regex))\n",
    "    return labels"
   ]
  },
  {
   "cell_type": "code",
   "execution_count": 6,
   "metadata": {},
   "outputs": [
    {
     "name": "stdout",
     "output_type": "stream",
     "text": [
      "./TARGETS/TRAIN/BMP2\n",
      "./TARGETS/TRAIN/T72\n",
      "./TARGETS/TRAIN/BTR70\n",
      "./TARGETS/TEST/BMP2\n",
      "./TARGETS/TEST/T72\n",
      "./TARGETS/TEST/BTR70\n",
      "3\n",
      "3\n"
     ]
    }
   ],
   "source": [
    "train_folder_labels = label_getter('./TARGETS/TRAIN/')\n",
    "test_folder_labels = label_getter('./TARGETS/TEST/')\n",
    "print(len(train_folder_labels))\n",
    "print(len(test_folder_labels))"
   ]
  },
  {
   "cell_type": "markdown",
   "metadata": {
    "collapsed": true
   },
   "source": [
    "**A sample file looks like -**"
   ]
  },
  {
   "cell_type": "code",
   "execution_count": 7,
   "metadata": {},
   "outputs": [
    {
     "name": "stdout",
     "output_type": "stream",
     "text": [
      "(128, 128)\n"
     ]
    },
    {
     "data": {
      "image/png": "[encoded data removed]",
      "text/plain": [
       "<PIL.JpegImagePlugin.JpegImageFile image mode=L size=128x128 at 0x7F6D4F0B8C88>"
      ]
     },
     "execution_count": 7,
     "metadata": {},
     "output_type": "execute_result"
    }
   ],
   "source": [
    "img = Image.open(train_folder_labels[0][0])\n",
    "print(img.size)\n",
    "image_size = img.size[0]\n",
    "img"
   ]
  },
  {
   "cell_type": "markdown",
   "metadata": {
    "collapsed": true
   },
   "source": [
    "---\n",
    "**Create pickle of all files**\n",
    "\n",
    "Pickling these files will help to load it on demand\n",
    "\n",
    "+ Load files into memory and create real file data set"
   ]
  },
  {
   "cell_type": "code",
   "execution_count": 8,
   "metadata": {},
   "outputs": [
    {
     "name": "stdout",
     "output_type": "stream",
     "text": [
      "128\n",
      "TRAIN_BMP2.pickle already present - Skipping pickling.\n",
      "TRAIN_T72.pickle already present - Skipping pickling.\n",
      "TRAIN_BTR70.pickle already present - Skipping pickling.\n",
      "TEST_BMP2.pickle already present - Skipping pickling.\n",
      "TEST_T72.pickle already present - Skipping pickling.\n",
      "TEST_BTR70.pickle already present - Skipping pickling.\n"
     ]
    }
   ],
   "source": [
    "import pickle\n",
    "\n",
    "pixel_depth = 255\n",
    "# Note - dividing by pixel depth distrubutes these values around 0. So uniform variance and 0 mean\n",
    "print(image_size)\n",
    "# create datasets\n",
    "def load_tank_type(image_labels):\n",
    "    images = image_labels\n",
    "    print(len(images))\n",
    "    dataset = np.ndarray(shape=(len(images), image_size, image_size),\n",
    "                         dtype=np.float32)\n",
    "    for index,image in enumerate(images):\n",
    "        image_path = image\n",
    "        image_data = (ndimage.imread(image_path).astype(float) - \n",
    "                    pixel_depth / 2) / pixel_depth\n",
    "        #image_data = ndimage.imread(image_path)\n",
    "        dataset[index,:,:] = image_data\n",
    "    print('Full dataset tensor:', dataset.shape)\n",
    "    print('Mean:', np.mean(dataset))\n",
    "    print('Standard deviation:', np.std(dataset))\n",
    "    return dataset\n",
    "\n",
    "def pickle_files(folder_labels, folder_type, force=False):\n",
    "    tank_names = ['BMP2','T72','BTR70']\n",
    "    dataset_names = []\n",
    "    for index,name in enumerate(tank_names):\n",
    "        set_filename = folder_type + '_' + name + '.pickle'\n",
    "        dataset_names.append(set_filename)\n",
    "        if os.path.exists(set_filename) and not force:\n",
    "          # You may override by setting force=True.\n",
    "          print('%s already present - Skipping pickling.' % set_filename)\n",
    "        else:\n",
    "          print('Pickling %s.' % set_filename)\n",
    "          dataset = load_tank_type(folder_labels[index])\n",
    "          try:\n",
    "            with open(set_filename, 'wb') as f:\n",
    "              pickle.dump(dataset, f, pickle.HIGHEST_PROTOCOL)\n",
    "          except Exception as e:\n",
    "            print('Unable to save data to', set_filename, ':', e)\n",
    "    return dataset_names\n",
    "\n",
    "train_dataset = pickle_files(train_folder_labels,'TRAIN')\n",
    "test_dataset = pickle_files(test_folder_labels,'TEST')"
   ]
  },
  {
   "cell_type": "markdown",
   "metadata": {
    "collapsed": true
   },
   "source": [
    "---\n",
    "**Spot check to see if the file still looks good**"
   ]
  },
  {
   "cell_type": "code",
   "execution_count": 9,
   "metadata": {},
   "outputs": [
    {
     "data": {
      "image/png": "[encoded data removed]",
      "text/plain": [
       "<matplotlib.figure.Figure at 0x7f6d4c316278>"
      ]
     },
     "metadata": {},
     "output_type": "display_data"
    }
   ],
   "source": [
    "import matplotlib.pyplot as plt\n",
    "\n",
    "pickle_file = train_dataset[0]\n",
    "with open(pickle_file, 'rb') as file:\n",
    "    tank_set = pickle.load(file)\n",
    "    sample_image = tank_set[5,:,:]\n",
    "    plt.figure()\n",
    "    plt.imshow(sample_image)\n",
    "    plt.show()"
   ]
  },
  {
   "cell_type": "code",
   "execution_count": 16,
   "metadata": {
    "collapsed": true
   },
   "outputs": [],
   "source": [
    "# we need to merge datasets for training in order to train well\n",
    "def make_arrays(nb_rows, img_size):\n",
    "  if nb_rows:\n",
    "    dataset = np.ndarray((nb_rows, img_size, img_size), dtype=np.float32)\n",
    "    labels = np.ndarray(nb_rows, dtype=np.int32)\n",
    "  else:\n",
    "    dataset, labels = None, None\n",
    "  return dataset, labels\n",
    "\n",
    "def merge_datasets(pickle_files, train_size, valid_size=0):\n",
    "  num_classes = len(pickle_files)\n",
    "  valid_dataset, valid_labels = make_arrays(valid_size, image_size)\n",
    "  train_dataset, train_labels = make_arrays(train_size, image_size)\n",
    "  vsize_per_class = valid_size // num_classes\n",
    "  tsize_per_class = train_size // num_classes\n",
    "    \n",
    "  start_v, start_t = 0, 0\n",
    "  end_v, end_t = vsize_per_class, tsize_per_class\n",
    "  end_l = vsize_per_class+tsize_per_class\n",
    "  for label, pickle_file in enumerate(pickle_files):       \n",
    "    try:\n",
    "      with open(pickle_file, 'rb') as f:\n",
    "        tank_set = pickle.load(f)\n",
    "        # let's shuffle the tank_type to have random validation and training set\n",
    "        np.random.shuffle(tank_set)\n",
    "        if valid_dataset is not None:\n",
    "          valid_tank = tank_set[:vsize_per_class, :, :]\n",
    "          valid_dataset[start_v:end_v, :, :] = valid_tank\n",
    "          valid_labels[start_v:end_v] = label\n",
    "          start_v += vsize_per_class\n",
    "          end_v += vsize_per_class\n",
    "                    \n",
    "        train_tank = tank_set[vsize_per_class:end_l, :, :]\n",
    "        train_dataset[start_t:end_t, :, :] = train_tank\n",
    "        train_labels[start_t:end_t] = label\n",
    "        start_t += tsize_per_class\n",
    "        end_t += tsize_per_class\n",
    "    except Exception as e:\n",
    "      print('Unable to process data from', pickle_file, ':', e)\n",
    "      raise\n",
    "    \n",
    "  return valid_dataset, valid_labels, train_dataset, train_labels"
   ]
  },
  {
   "cell_type": "code",
   "execution_count": 27,
   "metadata": {},
   "outputs": [],
   "source": [
    "# pass test data first and then I will pass train data\n",
    "# break test into validation and test data set\n",
    "import math\n",
    "valid_dataset, valid_labels, test_dataset, test_labels = merge_datasets(\n",
    "                                                                    test_dataset,math.floor(0.7*195)*3,\n",
    "                                                                    math.floor(0.3*195)*3)\n",
    "_, _, train_dataset, train_labels = merge_datasets(train_dataset,232*3)"
   ]
  },
  {
   "cell_type": "code",
   "execution_count": 29,
   "metadata": {},
   "outputs": [
    {
     "name": "stdout",
     "output_type": "stream",
     "text": [
      "174\n",
      "408\n",
      "696\n",
      "[0 0 0 0 0]\n"
     ]
    }
   ],
   "source": [
    "print(len(valid_dataset))\n",
    "print(len(test_dataset))\n",
    "print(len(train_dataset))\n",
    "print(valid_labels[:5])"
   ]
  },
  {
   "cell_type": "markdown",
   "metadata": {},
   "source": [
    "As we can see labels are not shuffled so lets shuffle labels accordingly"
   ]
  },
  {
   "cell_type": "code",
   "execution_count": 30,
   "metadata": {
    "collapsed": true
   },
   "outputs": [],
   "source": [
    "def randomize(dataset, labels):\n",
    "  permutation = np.random.permutation(labels.shape[0])\n",
    "  shuffled_dataset = dataset[permutation,:,:]\n",
    "  shuffled_labels = labels[permutation]\n",
    "  return shuffled_dataset, shuffled_labels\n",
    "train_dataset, train_labels = randomize(train_dataset, train_labels)\n",
    "test_dataset, test_labels = randomize(test_dataset, test_labels)\n",
    "valid_dataset, valid_labels = randomize(valid_dataset, valid_labels)"
   ]
  },
  {
   "cell_type": "markdown",
   "metadata": {},
   "source": [
    "Finally lets save data for further reuse - "
   ]
  },
  {
   "cell_type": "code",
   "execution_count": 33,
   "metadata": {},
   "outputs": [],
   "source": [
    "pickle_file = os.path.join(os.getcwd(), 'final_dataset.pickle')\n",
    "\n",
    "try:\n",
    "  f = open(pickle_file, 'wb')\n",
    "  save = {\n",
    "    'train_dataset': train_dataset,\n",
    "    'train_labels': train_labels,\n",
    "    'valid_dataset': valid_dataset,\n",
    "    'valid_labels': valid_labels,\n",
    "    'test_dataset': test_dataset,\n",
    "    'test_labels': test_labels,\n",
    "    }\n",
    "  pickle.dump(save, f, pickle.HIGHEST_PROTOCOL)\n",
    "  f.close()\n",
    "except Exception as e:\n",
    "  print('Unable to save data to', pickle_file, ':', e)\n",
    "  raise"
   ]
  },
  {
   "cell_type": "code",
   "execution_count": 34,
   "metadata": {},
   "outputs": [
    {
     "name": "stdout",
     "output_type": "stream",
     "text": [
      "Compressed pickle size: 83760617\n"
     ]
    }
   ],
   "source": [
    "statinfo = os.stat(pickle_file)\n",
    "print('Compressed pickle size:', statinfo.st_size)"
   ]
  },
  {
   "cell_type": "markdown",
   "metadata": {},
   "source": [
    "Next step is to use it in a Fuzzy Neural Network"
   ]
  }
 ],
 "metadata": {
  "kernelspec": {
   "display_name": "Python 3",
   "language": "python",
   "name": "python3"
  },
  "language_info": {
   "codemirror_mode": {
    "name": "ipython",
    "version": 3
   },
   "file_extension": ".py",
   "mimetype": "text/x-python",
   "name": "python",
   "nbconvert_exporter": "python",
   "pygments_lexer": "ipython3",
   "version": "3.5.2"
  }
 },
 "nbformat": 4,
 "nbformat_minor": 2
}
